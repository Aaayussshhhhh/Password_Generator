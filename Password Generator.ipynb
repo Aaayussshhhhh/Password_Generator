{
 "cells": [
  {
   "cell_type": "code",
   "execution_count": 2,
   "id": "cdc5a21b",
   "metadata": {},
   "outputs": [
    {
     "name": "stdout",
     "output_type": "stream",
     "text": [
      "Enter the desired length for your password: 1\n",
      "Password length should be at least 10 characters for security.\n",
      "Enter the desired length for your password: as\n",
      "Please enter a valid number.\n",
      "Enter the desired length for your password: 11\n",
      "Password Created: 8}+;|,!0&>3\n"
     ]
    }
   ],
   "source": [
    "import random\n",
    "import string\n",
    "\n",
    "def password_creation(length):\n",
    "    character = string.digits + string.punctuation\n",
    "    passcode = ''.join(random.choice(character) for _ in range(length))\n",
    "    \n",
    "    return passcode\n",
    "\n",
    "def main():\n",
    "    while True:\n",
    "        try:\n",
    "            length = int(input(\"Enter the desired length for your password: \"))\n",
    "            if length < 10:\n",
    "                print(\"Password length should be at least 10 characters for security.\")\n",
    "                continue\n",
    "            \n",
    "            passcode = password_creation(length)\n",
    "            \n",
    "            print(f\"Password Created: {passcode}\")\n",
    "            break\n",
    "        \n",
    "        except ValueError:\n",
    "            print(\"Please enter a valid number.\")\n",
    "\n",
    "if __name__ == \"__main__\":\n",
    "    main()\n"
   ]
  },
  {
   "cell_type": "code",
   "execution_count": null,
   "id": "f3c7f3ff",
   "metadata": {},
   "outputs": [],
   "source": []
  },
  {
   "cell_type": "code",
   "execution_count": null,
   "id": "6c485467",
   "metadata": {},
   "outputs": [],
   "source": []
  }
 ],
 "metadata": {
  "kernelspec": {
   "display_name": "Python 3 (ipykernel)",
   "language": "python",
   "name": "python3"
  },
  "language_info": {
   "codemirror_mode": {
    "name": "ipython",
    "version": 3
   },
   "file_extension": ".py",
   "mimetype": "text/x-python",
   "name": "python",
   "nbconvert_exporter": "python",
   "pygments_lexer": "ipython3",
   "version": "3.11.5"
  }
 },
 "nbformat": 4,
 "nbformat_minor": 5
}
